{
 "cells": [
  {
   "cell_type": "code",
   "execution_count": 1,
   "metadata": {},
   "outputs": [],
   "source": [
    "#Create a program to generate a password\n",
    "#length 12\n",
    "#6 random == \"A-Z a-z\"\n",
    "#4 --> digits\n",
    "#2 -- > special characters"
   ]
  },
  {
   "cell_type": "code",
   "execution_count": 14,
   "metadata": {},
   "outputs": [
    {
     "name": "stdout",
     "output_type": "stream",
     "text": [
      "0e/DT95]9zEX\n"
     ]
    }
   ],
   "source": [
    "import random\n",
    "import string\n",
    "\n",
    "letter_count = 6\n",
    "digit_count = 4\n",
    "char_count = 2\n",
    "\n",
    "string_source = ''.join(random.choice(string.ascii_letters) for i in range(letter_count))\n",
    "string_source+= ''.join(random.choice(string.digits) for i in range(digit_count))\n",
    "string_source+= ''.join(random.choice(string.punctuation) for i in range(char_count))\n",
    "\n",
    "list1 = list(string_source)\n",
    "random.shuffle(list1)\n",
    "final_str = ''.join(list1)\n",
    "print(final_str)"
   ]
  },
  {
   "cell_type": "code",
   "execution_count": null,
   "metadata": {},
   "outputs": [],
   "source": []
  }
 ],
 "metadata": {
  "kernelspec": {
   "display_name": "Python 3",
   "language": "python",
   "name": "python3"
  },
  "language_info": {
   "codemirror_mode": {
    "name": "ipython",
    "version": 3
   },
   "file_extension": ".py",
   "mimetype": "text/x-python",
   "name": "python",
   "nbconvert_exporter": "python",
   "pygments_lexer": "ipython3",
   "version": "3.7.6"
  }
 },
 "nbformat": 4,
 "nbformat_minor": 4
}
