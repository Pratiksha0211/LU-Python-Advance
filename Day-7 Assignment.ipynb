{
 "cells": [
  {
   "cell_type": "code",
   "execution_count": 1,
   "metadata": {},
   "outputs": [],
   "source": [
    "#list1=[10,20,30,40,50]\n",
    "#list2=[5,15,25,35,45,60]\n",
    "#Merge the two lists and give output as follows with new list"
   ]
  },
  {
   "cell_type": "code",
   "execution_count": 13,
   "metadata": {},
   "outputs": [
    {
     "name": "stdout",
     "output_type": "stream",
     "text": [
      "[5, 10, 15, 20, 25, 30, 35, 40, 45, 50, 60]\n"
     ]
    }
   ],
   "source": [
    "list1=[10,20,30,40,50]\n",
    "list2=[5,15,25,35,45,60]\n",
    "list3=[]\n",
    "size1=len(list1)\n",
    "size2=len(list2)\n",
    "i=0\n",
    "j=0\n",
    "while i<size1 and j<size2:\n",
    "    if list1[i]<list2[j]:\n",
    "        list3.append(list1[i])\n",
    "        i+=1\n",
    "    else:\n",
    "        list3.append(list2[j])\n",
    "        j+=1\n",
    "        \n",
    "list3 = list3 + list1[i:] + list2[j:]\n",
    "print(list3)\n"
   ]
  },
  {
   "cell_type": "code",
   "execution_count": null,
   "metadata": {},
   "outputs": [],
   "source": []
  }
 ],
 "metadata": {
  "kernelspec": {
   "display_name": "Python 3",
   "language": "python",
   "name": "python3"
  },
  "language_info": {
   "codemirror_mode": {
    "name": "ipython",
    "version": 3
   },
   "file_extension": ".py",
   "mimetype": "text/x-python",
   "name": "python",
   "nbconvert_exporter": "python",
   "pygments_lexer": "ipython3",
   "version": "3.7.6"
  }
 },
 "nbformat": 4,
 "nbformat_minor": 4
}
