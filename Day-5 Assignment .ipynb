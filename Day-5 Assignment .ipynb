{
 "cells": [
  {
   "cell_type": "code",
   "execution_count": 16,
   "metadata": {},
   "outputs": [
    {
     "name": "stdout",
     "output_type": "stream",
     "text": [
      "{'Nick Fury': 'Tony Stark,Maria Hill,Norman Osborn', 'Hulk': 'Tony Stark,HawkEye,Rogers', 'Rogers': 'Thor', 'Tony Stark': 'Pepper Potts,Nick Fury', 'Agent-13': 'Agent-X,Nick Fury,Hitler', 'Thor': 'HawkEye,Black Widow', 'Black Widow': 'HawkEye', 'Maria Hill': 'Hulk,Rogers,Nick Fury', 'Agent-X': 'Agent-13,Rogers', 'Norman Osborn': 'Tony Stark,Thor'}\n"
     ]
    }
   ],
   "source": [
    "dict1 = {'Nick Fury': 'Tony Stark,Maria Hill,Norman Osborn','Hulk':'Tony Stark,HawkEye,Rogers', 'Rogers':'Thor','Tony Stark':'Pepper Potts,Nick Fury','Agent-13':'Agent-X,Nick Fury,Hitler','Thor':'HawkEye,Black Widow','Black Widow':'HawkEye','Maria Hill':\"Hulk,Rogers,Nick Fury\",'Agent-X':\"Agent-13,Rogers\", 'Norman Osborn': \"Tony Stark,Thor\"}\n",
    "print(dict1)\n",
    "value = []"
   ]
  },
  {
   "cell_type": "code",
   "execution_count": 17,
   "metadata": {},
   "outputs": [
    {
     "name": "stdout",
     "output_type": "stream",
     "text": [
      "{'Agent-X', 'Hitler', 'Agent-13'}\n"
     ]
    }
   ],
   "source": [
    "l1 = list(dict1.keys())\n",
    "l2 = list(dict1.values())\n",
    "l3 = set(l1)\n",
    "def splitvalues(l):\n",
    "    return l.split(',')\n",
    "\n",
    "for each in l2:\n",
    "    value.extend(splitvalues(each))\n",
    "\n",
    "l1.extend(value)\n",
    "s1 = set(l1)\n",
    "value1 = []\n",
    "keys = ['Nick Fury']\n",
    "\n",
    "def findhydra(k):\n",
    "    value1.extend(splitvalues(dict1[k]))\n",
    "    \n",
    "        \n",
    "for k,v in dict1.items():\n",
    "    if k in keys:\n",
    "        keys.extend(splitvalues(dict1[k]))\n",
    "\n",
    "kl = set(keys)\n",
    "x = l3.intersection(kl)\n",
    "\n",
    "for i in y:\n",
    "    findhydra(i)\n",
    "\n",
    "value2 = set(v111)\n",
    "print(s1-value2)\n"
   ]
  },
  {
   "cell_type": "code",
   "execution_count": null,
   "metadata": {},
   "outputs": [],
   "source": []
  }
 ],
 "metadata": {
  "kernelspec": {
   "display_name": "Python 3",
   "language": "python",
   "name": "python3"
  },
  "language_info": {
   "codemirror_mode": {
    "name": "ipython",
    "version": 3
   },
   "file_extension": ".py",
   "mimetype": "text/x-python",
   "name": "python",
   "nbconvert_exporter": "python",
   "pygments_lexer": "ipython3",
   "version": "3.7.6"
  }
 },
 "nbformat": 4,
 "nbformat_minor": 4
}
